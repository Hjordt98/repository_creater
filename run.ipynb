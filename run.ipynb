{
 "cells": [
  {
   "cell_type": "markdown",
   "metadata": {},
   "source": [
    "# Repository Creater\n",
    "\n",
    "This program will allow the user to enter a name of a new repository they wish to create.\n",
    "The program wil lthen take the entered name, replace the white space with underscore _.\n",
    "The proram will then create a folder, a README.md file, and run git init withing the new folder."
   ]
  },
  {
   "cell_type": "markdown",
   "metadata": {},
   "source": [
    "# Print statements for default .gitignore file for different languages"
   ]
  },
  {
   "cell_type": "markdown",
   "metadata": {},
   "source": [
    "# Step 1 - user input \n",
    "\n",
    "Whitespace will automaticlly replaced with _"
   ]
  },
  {
   "cell_type": "code",
   "execution_count": 14,
   "metadata": {},
   "outputs": [
    {
     "name": "stdout",
     "output_type": "stream",
     "text": [
      "Repository to be created will be called:\n",
      "python_test\n"
     ]
    }
   ],
   "source": [
    "user_input_repo_name = input(\"Enter name of new repository, whitespace will be replaced with underscore -->\")\n",
    "user_input_repo_name = user_input_repo_name.replace(\" \", \"_\")\n",
    "print(f'Repository to be created will be called:\\n{user_input_repo_name}')\n",
    "\n",
    "user_input_gitignore = input(\n",
    "\"\"\"Do you want a default .gitignore fill to be created for one of the below mentioned languages? \n",
    "Please enter the corresponding number and press enter. Or type 0 if you dont want a .gitignore file\n",
    "1 - Java\n",
    "2 - Python\n",
    "0 - I dont want a .gitignore file to be created\n",
    "\"\"\")"
   ]
  },
  {
   "cell_type": "markdown",
   "metadata": {},
   "source": [
    "# Step 2 - creation of folder and files"
   ]
  },
  {
   "cell_type": "code",
   "execution_count": 15,
   "metadata": {},
   "outputs": [
    {
     "ename": "FileExistsError",
     "evalue": "[WinError 183] Cannot create a file when that file already exists: 'C:\\\\Users\\\\andre\\\\Documents\\\\VSCode\\\\python_test'",
     "output_type": "error",
     "traceback": [
      "\u001b[1;31m---------------------------------------------------------------------------\u001b[0m",
      "\u001b[1;31mFileExistsError\u001b[0m                           Traceback (most recent call last)",
      "Cell \u001b[1;32mIn[15], line 7\u001b[0m\n\u001b[0;32m      3\u001b[0m folder_target \u001b[38;5;241m=\u001b[39m \u001b[38;5;124m\"\u001b[39m\u001b[38;5;124mC:\u001b[39m\u001b[38;5;130;01m\\\\\u001b[39;00m\u001b[38;5;124mUsers\u001b[39m\u001b[38;5;130;01m\\\\\u001b[39;00m\u001b[38;5;124mandre\u001b[39m\u001b[38;5;130;01m\\\\\u001b[39;00m\u001b[38;5;124mDocuments\u001b[39m\u001b[38;5;130;01m\\\\\u001b[39;00m\u001b[38;5;124mVSCode\u001b[39m\u001b[38;5;130;01m\\\\\u001b[39;00m\u001b[38;5;124m\"\u001b[39m\n\u001b[0;32m      5\u001b[0m folder_user_input_target \u001b[38;5;241m=\u001b[39m folder_target \u001b[38;5;241m+\u001b[39m user_input_repo_name\n\u001b[1;32m----> 7\u001b[0m \u001b[43mos\u001b[49m\u001b[38;5;241;43m.\u001b[39;49m\u001b[43mmkdir\u001b[49m\u001b[43m(\u001b[49m\u001b[43mfolder_user_input_target\u001b[49m\u001b[43m)\u001b[49m\n\u001b[0;32m      9\u001b[0m readme_file_location \u001b[38;5;241m=\u001b[39m os\u001b[38;5;241m.\u001b[39mpath\u001b[38;5;241m.\u001b[39mjoin(folder_user_input_target, \u001b[38;5;124m\"\u001b[39m\u001b[38;5;124mREADME.md\u001b[39m\u001b[38;5;124m\"\u001b[39m)\n\u001b[0;32m     11\u001b[0m \u001b[38;5;28;01mwith\u001b[39;00m \u001b[38;5;28mopen\u001b[39m(readme_file_location, \u001b[38;5;124m'\u001b[39m\u001b[38;5;124mw\u001b[39m\u001b[38;5;124m'\u001b[39m) \u001b[38;5;28;01mas\u001b[39;00m readme_file:\n",
      "\u001b[1;31mFileExistsError\u001b[0m: [WinError 183] Cannot create a file when that file already exists: 'C:\\\\Users\\\\andre\\\\Documents\\\\VSCode\\\\python_test'"
     ]
    }
   ],
   "source": [
    "import os\n",
    "from strings_gitignore import gitignore_java, gitignore_python\n",
    "\n",
    "folder_target = \"C:\\\\Users\\\\andre\\\\Documents\\\\VSCode\\\\\"\n",
    "\n",
    "folder_user_input_target = folder_target + user_input_repo_name\n",
    "\n",
    "os.mkdir(folder_user_input_target)\n",
    "\n",
    "readme_file_location = os.path.join(folder_user_input_target, \"README.md\")\n",
    "\n",
    "with open(readme_file_location, 'w') as readme_file:\n",
    "    readme_file.write(\"# README\")\n",
    "    readme_file.close\n",
    "    \n",
    "if user_input_gitignore == '1':\n",
    "    gitignore_file_location = os.path.join(folder_user_input_target, \".gitignore\")\n",
    "    with open(gitignore_file_location, 'w') as gitignore_file:\n",
    "        gitignore_file.write(gitignore_java)\n",
    "        gitignore_file.close\n",
    "elif user_input_gitignore == '2':\n",
    "    gitignore_file_location = os.path.join(folder_user_input_target, \".gitignore\")\n",
    "    with open(gitignore_file_location, 'w') as gitignore_file:\n",
    "        gitignore_file.write(gitignore_python)\n",
    "        gitignore_file.close\n",
    "elif user_input_gitignore == '0':\n",
    "    pass\n",
    "else:\n",
    "    print(\"Error in input, no .gitignore file will be created\")\n",
    "        "
   ]
  },
  {
   "cell_type": "markdown",
   "metadata": {},
   "source": [
    "# Step 3 - initalize it as a git project"
   ]
  },
  {
   "cell_type": "code",
   "execution_count": null,
   "metadata": {},
   "outputs": [
    {
     "data": {
      "text/plain": [
       "CompletedProcess(args=['git', 'init'], returncode=0)"
      ]
     },
     "execution_count": 12,
     "metadata": {},
     "output_type": "execute_result"
    }
   ],
   "source": [
    "import subprocess\n",
    "\n",
    "subprocess.run([\"git\", \"init\"], cwd=folder_user_input_target)"
   ]
  }
 ],
 "metadata": {
  "kernelspec": {
   "display_name": ".venv",
   "language": "python",
   "name": "python3"
  },
  "language_info": {
   "codemirror_mode": {
    "name": "ipython",
    "version": 3
   },
   "file_extension": ".py",
   "mimetype": "text/x-python",
   "name": "python",
   "nbconvert_exporter": "python",
   "pygments_lexer": "ipython3",
   "version": "3.12.2"
  }
 },
 "nbformat": 4,
 "nbformat_minor": 2
}
