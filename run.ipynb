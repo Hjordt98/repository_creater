{
 "cells": [
  {
   "cell_type": "markdown",
   "metadata": {},
   "source": [
    "# Repository Creater\n",
    "\n",
    "This program will allow the user to enter a name of a new repository they wish to create.\n",
    "The program wil lthen take the entered name, replace the white space with underscore _.\n",
    "The proram will then create a folder, a README.md file, and run git init withing the new folder."
   ]
  },
  {
   "cell_type": "markdown",
   "metadata": {},
   "source": [
    "# Step 1 - user input \n",
    "\n",
    "Whitespace will automaticlly replaced with _"
   ]
  },
  {
   "cell_type": "code",
   "execution_count": 21,
   "metadata": {},
   "outputs": [
    {
     "name": "stdout",
     "output_type": "stream",
     "text": [
      "Repository to be created will be called: a_b_c_e\n"
     ]
    }
   ],
   "source": [
    "user_input = input(\"Enter name of new repository, whitespace will be replaced with underscore\")\n",
    "\n",
    "user_input = user_input.replace(\" \", \"_\")\n",
    "\n",
    "print(f'Repository to be created will be called: {user_input}')"
   ]
  },
  {
   "cell_type": "markdown",
   "metadata": {},
   "source": [
    "# Step 2 - creation of repository in folder and README.md file"
   ]
  },
  {
   "cell_type": "code",
   "execution_count": 22,
   "metadata": {},
   "outputs": [],
   "source": [
    "import os\n",
    "\n",
    "folder_target = \"C:\\\\Users\\\\andre\\\\Documents\\\\VSCode\\\\\"\n",
    "\n",
    "folder_user_input_target = folder_target + user_input\n",
    "\n",
    "os.mkdir(folder_user_input_target)\n",
    "\n",
    "readme_file_location = os.path.join(folder_user_input_target, \"README.md\")\n",
    "\n",
    "with open(readme_file_location, 'w') as readme_file:\n",
    "    readme_file.write(\"# README\")\n",
    "    readme_file.close"
   ]
  },
  {
   "cell_type": "markdown",
   "metadata": {},
   "source": [
    "# Step 3 - initalize it as a git project"
   ]
  },
  {
   "cell_type": "code",
   "execution_count": null,
   "metadata": {},
   "outputs": [],
   "source": [
    "import subprocess\n",
    "\n",
    "subprocess.run([\"git\", \"init\"], cwd=folder_user_input_target)"
   ]
  }
 ],
 "metadata": {
  "kernelspec": {
   "display_name": ".venv",
   "language": "python",
   "name": "python3"
  },
  "language_info": {
   "codemirror_mode": {
    "name": "ipython",
    "version": 3
   },
   "file_extension": ".py",
   "mimetype": "text/x-python",
   "name": "python",
   "nbconvert_exporter": "python",
   "pygments_lexer": "ipython3",
   "version": "3.12.2"
  }
 },
 "nbformat": 4,
 "nbformat_minor": 2
}
